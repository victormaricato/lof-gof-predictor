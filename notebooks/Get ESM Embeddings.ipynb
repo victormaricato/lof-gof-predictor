{
  "cells": [
    {
      "cell_type": "code",
      "execution_count": null,
      "metadata": {
        "id": "DoUWcbyzjMkR"
      },
      "outputs": [],
      "source": [
        "from transformers import AutoTokenizer, EsmModel\n",
        "import torch\n",
        "import pandas as pd\n",
        "import esm\n",
        "from tqdm import tqdm\n",
        "from joblib import Memory\n",
        "from functools import lru_cache\n",
        "\n",
        "tqdm.pandas()\n",
        "memory = Memory('../data/colab_cache', verbose=False)"
      ]
    },
    {
      "cell_type": "code",
      "execution_count": null,
      "metadata": {
        "colab": {
          "base_uri": "https://localhost:8080/",
          "height": 206
        },
        "id": "Ll66PaKyltYg",
        "outputId": "d6fc09bc-5316-42b5-db96-20447c8b4dfa"
      },
      "outputs": [
        {
          "data": {
            "application/vnd.google.colaboratory.intrinsic+json": {
              "type": "dataframe",
              "variable_name": "df"
            },
            "text/html": [
              "\n",
              "  <div id=\"df-564b6f94-03b2-4b30-a2e9-17a1e4fd7e47\" class=\"colab-df-container\">\n",
              "    <div>\n",
              "<style scoped>\n",
              "    .dataframe tbody tr th:only-of-type {\n",
              "        vertical-align: middle;\n",
              "    }\n",
              "\n",
              "    .dataframe tbody tr th {\n",
              "        vertical-align: top;\n",
              "    }\n",
              "\n",
              "    .dataframe thead th {\n",
              "        text-align: right;\n",
              "    }\n",
              "</style>\n",
              "<table border=\"1\" class=\"dataframe\">\n",
              "  <thead>\n",
              "    <tr style=\"text-align: right;\">\n",
              "      <th></th>\n",
              "      <th>VARIANTKEY</th>\n",
              "      <th>LABEL</th>\n",
              "      <th>ENSG</th>\n",
              "      <th>GENE_SYMBOL</th>\n",
              "      <th>AA_POSITION</th>\n",
              "      <th>PROTEIN_REF</th>\n",
              "      <th>PROTEIN_ALT</th>\n",
              "    </tr>\n",
              "  </thead>\n",
              "  <tbody>\n",
              "    <tr>\n",
              "      <th>0</th>\n",
              "      <td>1-100196274-A-C</td>\n",
              "      <td>LOF</td>\n",
              "      <td>ENSG00000137992</td>\n",
              "      <td>DBT</td>\n",
              "      <td>477</td>\n",
              "      <td>MAAVRMLRTWSRNAGKLICVRYFQTCGNVHVLKPNYVCFFGYPSFK...</td>\n",
              "      <td>MAAVRMLRTWSRNAGKLICVRYFQTCGNVHVLKPNYVCFFGYPSFK...</td>\n",
              "    </tr>\n",
              "    <tr>\n",
              "      <th>1</th>\n",
              "      <td>1-100196286-T-C</td>\n",
              "      <td>NEUTRAL</td>\n",
              "      <td>ENSG00000137992</td>\n",
              "      <td>DBT</td>\n",
              "      <td>473</td>\n",
              "      <td>MAAVRMLRTWSRNAGKLICVRYFQTCGNVHVLKPNYVCFFGYPSFK...</td>\n",
              "      <td>MAAVRMLRTWSRNAGKLICVRYFQTCGNVHVLKPNYVCFFGYPSFK...</td>\n",
              "    </tr>\n",
              "    <tr>\n",
              "      <th>2</th>\n",
              "      <td>1-100196349-T-C</td>\n",
              "      <td>LOF</td>\n",
              "      <td>ENSG00000137992</td>\n",
              "      <td>DBT</td>\n",
              "      <td>452</td>\n",
              "      <td>MAAVRMLRTWSRNAGKLICVRYFQTCGNVHVLKPNYVCFFGYPSFK...</td>\n",
              "      <td>MAAVRMLRTWSRNAGKLICVRYFQTCGNVHVLKPNYVCFFGYPSFK...</td>\n",
              "    </tr>\n",
              "    <tr>\n",
              "      <th>3</th>\n",
              "      <td>1-100206470-G-A</td>\n",
              "      <td>LOF</td>\n",
              "      <td>ENSG00000137992</td>\n",
              "      <td>DBT</td>\n",
              "      <td>395</td>\n",
              "      <td>MAAVRMLRTWSRNAGKLICVRYFQTCGNVHVLKPNYVCFFGYPSFK...</td>\n",
              "      <td>MAAVRMLRTWSRNAGKLICVRYFQTCGNVHVLKPNYVCFFGYPSFK...</td>\n",
              "    </tr>\n",
              "    <tr>\n",
              "      <th>4</th>\n",
              "      <td>1-100206621-C-T</td>\n",
              "      <td>LOF</td>\n",
              "      <td>ENSG00000137992</td>\n",
              "      <td>DBT</td>\n",
              "      <td>345</td>\n",
              "      <td>MAAVRMLRTWSRNAGKLICVRYFQTCGNVHVLKPNYVCFFGYPSFK...</td>\n",
              "      <td>MAAVRMLRTWSRNAGKLICVRYFQTCGNVHVLKPNYVCFFGYPSFK...</td>\n",
              "    </tr>\n",
              "  </tbody>\n",
              "</table>\n",
              "</div>\n",
              "    <div class=\"colab-df-buttons\">\n",
              "\n",
              "  <div class=\"colab-df-container\">\n",
              "    <button class=\"colab-df-convert\" onclick=\"convertToInteractive('df-564b6f94-03b2-4b30-a2e9-17a1e4fd7e47')\"\n",
              "            title=\"Convert this dataframe to an interactive table.\"\n",
              "            style=\"display:none;\">\n",
              "\n",
              "  <svg xmlns=\"http://www.w3.org/2000/svg\" height=\"24px\" viewBox=\"0 -960 960 960\">\n",
              "    <path d=\"M120-120v-720h720v720H120Zm60-500h600v-160H180v160Zm220 220h160v-160H400v160Zm0 220h160v-160H400v160ZM180-400h160v-160H180v160Zm440 0h160v-160H620v160ZM180-180h160v-160H180v160Zm440 0h160v-160H620v160Z\"/>\n",
              "  </svg>\n",
              "    </button>\n",
              "\n",
              "  <style>\n",
              "    .colab-df-container {\n",
              "      display:flex;\n",
              "      gap: 12px;\n",
              "    }\n",
              "\n",
              "    .colab-df-convert {\n",
              "      background-color: #E8F0FE;\n",
              "      border: none;\n",
              "      border-radius: 50%;\n",
              "      cursor: pointer;\n",
              "      display: none;\n",
              "      fill: #1967D2;\n",
              "      height: 32px;\n",
              "      padding: 0 0 0 0;\n",
              "      width: 32px;\n",
              "    }\n",
              "\n",
              "    .colab-df-convert:hover {\n",
              "      background-color: #E2EBFA;\n",
              "      box-shadow: 0px 1px 2px rgba(60, 64, 67, 0.3), 0px 1px 3px 1px rgba(60, 64, 67, 0.15);\n",
              "      fill: #174EA6;\n",
              "    }\n",
              "\n",
              "    .colab-df-buttons div {\n",
              "      margin-bottom: 4px;\n",
              "    }\n",
              "\n",
              "    [theme=dark] .colab-df-convert {\n",
              "      background-color: #3B4455;\n",
              "      fill: #D2E3FC;\n",
              "    }\n",
              "\n",
              "    [theme=dark] .colab-df-convert:hover {\n",
              "      background-color: #434B5C;\n",
              "      box-shadow: 0px 1px 3px 1px rgba(0, 0, 0, 0.15);\n",
              "      filter: drop-shadow(0px 1px 2px rgba(0, 0, 0, 0.3));\n",
              "      fill: #FFFFFF;\n",
              "    }\n",
              "  </style>\n",
              "\n",
              "    <script>\n",
              "      const buttonEl =\n",
              "        document.querySelector('#df-564b6f94-03b2-4b30-a2e9-17a1e4fd7e47 button.colab-df-convert');\n",
              "      buttonEl.style.display =\n",
              "        google.colab.kernel.accessAllowed ? 'block' : 'none';\n",
              "\n",
              "      async function convertToInteractive(key) {\n",
              "        const element = document.querySelector('#df-564b6f94-03b2-4b30-a2e9-17a1e4fd7e47');\n",
              "        const dataTable =\n",
              "          await google.colab.kernel.invokeFunction('convertToInteractive',\n",
              "                                                    [key], {});\n",
              "        if (!dataTable) return;\n",
              "\n",
              "        const docLinkHtml = 'Like what you see? Visit the ' +\n",
              "          '<a target=\"_blank\" href=https://colab.research.google.com/notebooks/data_table.ipynb>data table notebook</a>'\n",
              "          + ' to learn more about interactive tables.';\n",
              "        element.innerHTML = '';\n",
              "        dataTable['output_type'] = 'display_data';\n",
              "        await google.colab.output.renderOutput(dataTable, element);\n",
              "        const docLink = document.createElement('div');\n",
              "        docLink.innerHTML = docLinkHtml;\n",
              "        element.appendChild(docLink);\n",
              "      }\n",
              "    </script>\n",
              "  </div>\n",
              "\n",
              "\n",
              "<div id=\"df-c07bda99-615e-4b5c-9fd0-371005f62a26\">\n",
              "  <button class=\"colab-df-quickchart\" onclick=\"quickchart('df-c07bda99-615e-4b5c-9fd0-371005f62a26')\"\n",
              "            title=\"Suggest charts\"\n",
              "            style=\"display:none;\">\n",
              "\n",
              "<svg xmlns=\"http://www.w3.org/2000/svg\" height=\"24px\"viewBox=\"0 0 24 24\"\n",
              "     width=\"24px\">\n",
              "    <g>\n",
              "        <path d=\"M19 3H5c-1.1 0-2 .9-2 2v14c0 1.1.9 2 2 2h14c1.1 0 2-.9 2-2V5c0-1.1-.9-2-2-2zM9 17H7v-7h2v7zm4 0h-2V7h2v10zm4 0h-2v-4h2v4z\"/>\n",
              "    </g>\n",
              "</svg>\n",
              "  </button>\n",
              "\n",
              "<style>\n",
              "  .colab-df-quickchart {\n",
              "      --bg-color: #E8F0FE;\n",
              "      --fill-color: #1967D2;\n",
              "      --hover-bg-color: #E2EBFA;\n",
              "      --hover-fill-color: #174EA6;\n",
              "      --disabled-fill-color: #AAA;\n",
              "      --disabled-bg-color: #DDD;\n",
              "  }\n",
              "\n",
              "  [theme=dark] .colab-df-quickchart {\n",
              "      --bg-color: #3B4455;\n",
              "      --fill-color: #D2E3FC;\n",
              "      --hover-bg-color: #434B5C;\n",
              "      --hover-fill-color: #FFFFFF;\n",
              "      --disabled-bg-color: #3B4455;\n",
              "      --disabled-fill-color: #666;\n",
              "  }\n",
              "\n",
              "  .colab-df-quickchart {\n",
              "    background-color: var(--bg-color);\n",
              "    border: none;\n",
              "    border-radius: 50%;\n",
              "    cursor: pointer;\n",
              "    display: none;\n",
              "    fill: var(--fill-color);\n",
              "    height: 32px;\n",
              "    padding: 0;\n",
              "    width: 32px;\n",
              "  }\n",
              "\n",
              "  .colab-df-quickchart:hover {\n",
              "    background-color: var(--hover-bg-color);\n",
              "    box-shadow: 0 1px 2px rgba(60, 64, 67, 0.3), 0 1px 3px 1px rgba(60, 64, 67, 0.15);\n",
              "    fill: var(--button-hover-fill-color);\n",
              "  }\n",
              "\n",
              "  .colab-df-quickchart-complete:disabled,\n",
              "  .colab-df-quickchart-complete:disabled:hover {\n",
              "    background-color: var(--disabled-bg-color);\n",
              "    fill: var(--disabled-fill-color);\n",
              "    box-shadow: none;\n",
              "  }\n",
              "\n",
              "  .colab-df-spinner {\n",
              "    border: 2px solid var(--fill-color);\n",
              "    border-color: transparent;\n",
              "    border-bottom-color: var(--fill-color);\n",
              "    animation:\n",
              "      spin 1s steps(1) infinite;\n",
              "  }\n",
              "\n",
              "  @keyframes spin {\n",
              "    0% {\n",
              "      border-color: transparent;\n",
              "      border-bottom-color: var(--fill-color);\n",
              "      border-left-color: var(--fill-color);\n",
              "    }\n",
              "    20% {\n",
              "      border-color: transparent;\n",
              "      border-left-color: var(--fill-color);\n",
              "      border-top-color: var(--fill-color);\n",
              "    }\n",
              "    30% {\n",
              "      border-color: transparent;\n",
              "      border-left-color: var(--fill-color);\n",
              "      border-top-color: var(--fill-color);\n",
              "      border-right-color: var(--fill-color);\n",
              "    }\n",
              "    40% {\n",
              "      border-color: transparent;\n",
              "      border-right-color: var(--fill-color);\n",
              "      border-top-color: var(--fill-color);\n",
              "    }\n",
              "    60% {\n",
              "      border-color: transparent;\n",
              "      border-right-color: var(--fill-color);\n",
              "    }\n",
              "    80% {\n",
              "      border-color: transparent;\n",
              "      border-right-color: var(--fill-color);\n",
              "      border-bottom-color: var(--fill-color);\n",
              "    }\n",
              "    90% {\n",
              "      border-color: transparent;\n",
              "      border-bottom-color: var(--fill-color);\n",
              "    }\n",
              "  }\n",
              "</style>\n",
              "\n",
              "  <script>\n",
              "    async function quickchart(key) {\n",
              "      const quickchartButtonEl =\n",
              "        document.querySelector('#' + key + ' button');\n",
              "      quickchartButtonEl.disabled = true;  // To prevent multiple clicks.\n",
              "      quickchartButtonEl.classList.add('colab-df-spinner');\n",
              "      try {\n",
              "        const charts = await google.colab.kernel.invokeFunction(\n",
              "            'suggestCharts', [key], {});\n",
              "      } catch (error) {\n",
              "        console.error('Error during call to suggestCharts:', error);\n",
              "      }\n",
              "      quickchartButtonEl.classList.remove('colab-df-spinner');\n",
              "      quickchartButtonEl.classList.add('colab-df-quickchart-complete');\n",
              "    }\n",
              "    (() => {\n",
              "      let quickchartButtonEl =\n",
              "        document.querySelector('#df-c07bda99-615e-4b5c-9fd0-371005f62a26 button');\n",
              "      quickchartButtonEl.style.display =\n",
              "        google.colab.kernel.accessAllowed ? 'block' : 'none';\n",
              "    })();\n",
              "  </script>\n",
              "</div>\n",
              "\n",
              "    </div>\n",
              "  </div>\n"
            ],
            "text/plain": [
              "        VARIANTKEY    LABEL             ENSG GENE_SYMBOL  AA_POSITION  \\\n",
              "0  1-100196274-A-C      LOF  ENSG00000137992         DBT          477   \n",
              "1  1-100196286-T-C  NEUTRAL  ENSG00000137992         DBT          473   \n",
              "2  1-100196349-T-C      LOF  ENSG00000137992         DBT          452   \n",
              "3  1-100206470-G-A      LOF  ENSG00000137992         DBT          395   \n",
              "4  1-100206621-C-T      LOF  ENSG00000137992         DBT          345   \n",
              "\n",
              "                                         PROTEIN_REF  \\\n",
              "0  MAAVRMLRTWSRNAGKLICVRYFQTCGNVHVLKPNYVCFFGYPSFK...   \n",
              "1  MAAVRMLRTWSRNAGKLICVRYFQTCGNVHVLKPNYVCFFGYPSFK...   \n",
              "2  MAAVRMLRTWSRNAGKLICVRYFQTCGNVHVLKPNYVCFFGYPSFK...   \n",
              "3  MAAVRMLRTWSRNAGKLICVRYFQTCGNVHVLKPNYVCFFGYPSFK...   \n",
              "4  MAAVRMLRTWSRNAGKLICVRYFQTCGNVHVLKPNYVCFFGYPSFK...   \n",
              "\n",
              "                                         PROTEIN_ALT  \n",
              "0  MAAVRMLRTWSRNAGKLICVRYFQTCGNVHVLKPNYVCFFGYPSFK...  \n",
              "1  MAAVRMLRTWSRNAGKLICVRYFQTCGNVHVLKPNYVCFFGYPSFK...  \n",
              "2  MAAVRMLRTWSRNAGKLICVRYFQTCGNVHVLKPNYVCFFGYPSFK...  \n",
              "3  MAAVRMLRTWSRNAGKLICVRYFQTCGNVHVLKPNYVCFFGYPSFK...  \n",
              "4  MAAVRMLRTWSRNAGKLICVRYFQTCGNVHVLKPNYVCFFGYPSFK...  "
            ]
          },
          "execution_count": 4,
          "metadata": {},
          "output_type": "execute_result"
        }
      ],
      "source": [
        "df = pd.read_csv(\"../data/training_set_20230316.tsv.gz\", sep=\"\\t\")\n",
        "df.head()"
      ]
    },
    {
      "cell_type": "code",
      "execution_count": null,
      "metadata": {
        "colab": {
          "base_uri": "https://localhost:8080/"
        },
        "id": "LAAhnh3mvUbz",
        "outputId": "194dddec-0bb6-48ca-aa47-c8a862e6dd82"
      },
      "outputs": [
        {
          "name": "stdout",
          "output_type": "stream",
          "text": [
            "cuda\n"
          ]
        }
      ],
      "source": [
        "device = torch.device(\"cuda\" if torch.cuda.is_available() else \"cpu\")\n",
        "print(device)"
      ]
    },
    {
      "cell_type": "code",
      "execution_count": null,
      "metadata": {
        "colab": {
          "base_uri": "https://localhost:8080/"
        },
        "id": "stCqLv6Bl2v8",
        "outputId": "467d09db-f08d-49d5-fc56-8dec2615a5ba"
      },
      "outputs": [
        {
          "name": "stderr",
          "output_type": "stream",
          "text": [
            "/usr/local/lib/python3.10/dist-packages/esm/pretrained.py:215: UserWarning: Regression weights not found, predicting contacts will not produce correct results.\n",
            "  warnings.warn(\n"
          ]
        },
        {
          "data": {
            "text/plain": [
              "ProteinBertModel(\n",
              "  (embed_tokens): Embedding(33, 1280, padding_idx=1)\n",
              "  (layers): ModuleList(\n",
              "    (0-32): 33 x TransformerLayer(\n",
              "      (self_attn): MultiheadAttention(\n",
              "        (k_proj): Linear(in_features=1280, out_features=1280, bias=True)\n",
              "        (v_proj): Linear(in_features=1280, out_features=1280, bias=True)\n",
              "        (q_proj): Linear(in_features=1280, out_features=1280, bias=True)\n",
              "        (out_proj): Linear(in_features=1280, out_features=1280, bias=True)\n",
              "      )\n",
              "      (self_attn_layer_norm): LayerNorm((1280,), eps=1e-05, elementwise_affine=True)\n",
              "      (fc1): Linear(in_features=1280, out_features=5120, bias=True)\n",
              "      (fc2): Linear(in_features=5120, out_features=1280, bias=True)\n",
              "      (final_layer_norm): LayerNorm((1280,), eps=1e-05, elementwise_affine=True)\n",
              "    )\n",
              "  )\n",
              "  (contact_head): ContactPredictionHead(\n",
              "    (regression): Linear(in_features=660, out_features=1, bias=True)\n",
              "    (activation): Sigmoid()\n",
              "  )\n",
              "  (embed_positions): LearnedPositionalEmbedding(1026, 1280, padding_idx=1)\n",
              "  (emb_layer_norm_after): LayerNorm((1280,), eps=1e-05, elementwise_affine=True)\n",
              "  (lm_head): RobertaLMHead(\n",
              "    (dense): Linear(in_features=1280, out_features=1280, bias=True)\n",
              "    (layer_norm): LayerNorm((1280,), eps=1e-05, elementwise_affine=True)\n",
              "  )\n",
              ")"
            ]
          },
          "execution_count": 8,
          "metadata": {},
          "output_type": "execute_result"
        }
      ],
      "source": [
        "# Load the pre-trained ESM-1v model\n",
        "esm_1v, alphabet = esm.pretrained.esm1v_t33_650M_UR90S_1()\n",
        "esm_1v = esm_1v.eval()\n",
        "esm_1v.to(device)"
      ]
    },
    {
      "cell_type": "code",
      "execution_count": null,
      "metadata": {
        "colab": {
          "background_save": true,
          "base_uri": "https://localhost:8080/"
        },
        "id": "1l001zAHlX2E",
        "outputId": "e094158a-f417-4ce5-d084-b0b575756cdf"
      },
      "outputs": [
        {
          "name": "stderr",
          "output_type": "stream",
          "text": [
            "100%|██████████| 112437/112437 [2:53:05<00:00, 10.83it/s]\n",
            "100%|██████████| 112437/112437 [2:53:11<00:00, 10.82it/s]"
          ]
        },
        {
          "name": "stdout",
          "output_type": "stream",
          "text": [
            "        VARIANTKEY    LABEL             ENSG GENE_SYMBOL  AA_POSITION  \\\n",
            "0  1-100196274-A-C      LOF  ENSG00000137992         DBT          477   \n",
            "1  1-100196286-T-C  NEUTRAL  ENSG00000137992         DBT          473   \n",
            "2  1-100196349-T-C      LOF  ENSG00000137992         DBT          452   \n",
            "3  1-100206470-G-A      LOF  ENSG00000137992         DBT          395   \n",
            "4  1-100206621-C-T      LOF  ENSG00000137992         DBT          345   \n",
            "\n",
            "                                         PROTEIN_REF  \\\n",
            "0  MAAVRMLRTWSRNAGKLICVRYFQTCGNVHVLKPNYVCFFGYPSFK...   \n",
            "1  MAAVRMLRTWSRNAGKLICVRYFQTCGNVHVLKPNYVCFFGYPSFK...   \n",
            "2  MAAVRMLRTWSRNAGKLICVRYFQTCGNVHVLKPNYVCFFGYPSFK...   \n",
            "3  MAAVRMLRTWSRNAGKLICVRYFQTCGNVHVLKPNYVCFFGYPSFK...   \n",
            "4  MAAVRMLRTWSRNAGKLICVRYFQTCGNVHVLKPNYVCFFGYPSFK...   \n",
            "\n",
            "                                         PROTEIN_ALT  \\\n",
            "0  MAAVRMLRTWSRNAGKLICVRYFQTCGNVHVLKPNYVCFFGYPSFK...   \n",
            "1  MAAVRMLRTWSRNAGKLICVRYFQTCGNVHVLKPNYVCFFGYPSFK...   \n",
            "2  MAAVRMLRTWSRNAGKLICVRYFQTCGNVHVLKPNYVCFFGYPSFK...   \n",
            "3  MAAVRMLRTWSRNAGKLICVRYFQTCGNVHVLKPNYVCFFGYPSFK...   \n",
            "4  MAAVRMLRTWSRNAGKLICVRYFQTCGNVHVLKPNYVCFFGYPSFK...   \n",
            "\n",
            "                                 REF_EMBEDDING_ESM1v  \\\n",
            "0  [0.023711795, 0.17607689, -0.09241844, 0.00010...   \n",
            "1  [0.023711795, 0.17607689, -0.09241844, 0.00010...   \n",
            "2  [0.023711795, 0.17607689, -0.09241844, 0.00010...   \n",
            "3  [0.023711795, 0.17607689, -0.09241844, 0.00010...   \n",
            "4  [0.023711795, 0.17607689, -0.09241844, 0.00010...   \n",
            "\n",
            "                                 ALT_EMBEDDING_ESM1v  \n",
            "0  [0.023188237, 0.17757455, -0.08903169, 0.00287...  \n",
            "1  [0.017270943, 0.17832978, -0.089323506, -0.000...  \n",
            "2  [0.020151792, 0.18066218, -0.09096193, 0.00096...  \n",
            "3  [0.02822395, 0.17860094, -0.08821337, 0.002231...  \n",
            "4  [0.01695501, 0.17416799, -0.088790074, 0.00124...  \n"
          ]
        },
        {
          "name": "stderr",
          "output_type": "stream",
          "text": [
            "\n"
          ]
        }
      ],
      "source": [
        "def get_esm1v_window_embedding(protein_sequence, aa_position):\n",
        "    protein_sequence = get_protein_window(protein_sequence, aa_position, 1023)\n",
        "    return get_esm1v_embedding(protein_sequence, aa_position)\n",
        "\n",
        "\n",
        "def get_protein_window(protein_sequence, aa_position, window_size):\n",
        "    max_length = 1023\n",
        "    half_length = max_length // 2\n",
        "\n",
        "    # Calculate the start and end positions for cropping\n",
        "    start = max(0, aa_position - half_length)\n",
        "    end = min(len(protein_sequence), aa_position + half_length)\n",
        "\n",
        "    # Crop the protein sequence\n",
        "    return protein_sequence[start:end]\n",
        "\n",
        "\n",
        "def get_esm1v_embedding(protein_sequence, aa_position):\n",
        "    batch_converter = alphabet.get_batch_converter()\n",
        "    data = [(\"protein\", protein_sequence)]\n",
        "    batch_labels, batch_strs, batch_tokens = batch_converter(data)\n",
        "    batch_tokens = batch_tokens.to(device)\n",
        "    with torch.no_grad():\n",
        "        results = esm_1v(batch_tokens, repr_layers=[33])\n",
        "    token_representations = results[\"representations\"][33]\n",
        "    sequence_representation = token_representations[0, 1:-1].mean(0)\n",
        "    return sequence_representation.cpu().numpy()\n",
        "\n",
        "# Get protein embeddings for REF and ALT columns\n",
        "df[\"REF_EMBEDDING_ESM1v\"] = df.progress_apply(lambda row: get_esm1v_window_embedding(row[\"PROTEIN_REF\"], row[\"AA_POSITION\"]), axis=1)\n",
        "df[\"ALT_EMBEDDING_ESM1v\"] = df.progress_apply(lambda row: get_esm1v_window_embedding(row[\"PROTEIN_ALT\"], row[\"AA_POSITION\"]), axis=1)\n",
        "\n",
        "# Print the updated DataFrame\n",
        "print(df.head())"
      ]
    },
    {
      "cell_type": "code",
      "execution_count": null,
      "metadata": {
        "colab": {
          "background_save": true
        },
        "id": "ld0TqgNpyu9E"
      },
      "outputs": [],
      "source": [
        "df.to_pickle(\"../data/esm_v1_embeddings.pkl\")"
      ]
    },
    {
      "cell_type": "code",
      "execution_count": null,
      "metadata": {
        "colab": {
          "base_uri": "https://localhost:8080/"
        },
        "id": "9KTBg0XCjBDs",
        "outputId": "da01f45b-e65a-44e7-9ac0-ae77e2e9e786"
      },
      "outputs": [
        {
          "name": "stderr",
          "output_type": "stream",
          "text": [
            "Some weights of EsmModel were not initialized from the model checkpoint at facebook/esm2_t33_650M_UR50D and are newly initialized: ['esm.pooler.dense.bias', 'esm.pooler.dense.weight']\n",
            "You should probably TRAIN this model on a down-stream task to be able to use it for predictions and inference.\n"
          ]
        },
        {
          "data": {
            "text/plain": [
              "EsmModel(\n",
              "  (embeddings): EsmEmbeddings(\n",
              "    (word_embeddings): Embedding(33, 1280, padding_idx=1)\n",
              "    (dropout): Dropout(p=0.0, inplace=False)\n",
              "    (position_embeddings): Embedding(1026, 1280, padding_idx=1)\n",
              "  )\n",
              "  (encoder): EsmEncoder(\n",
              "    (layer): ModuleList(\n",
              "      (0-32): 33 x EsmLayer(\n",
              "        (attention): EsmAttention(\n",
              "          (self): EsmSelfAttention(\n",
              "            (query): Linear(in_features=1280, out_features=1280, bias=True)\n",
              "            (key): Linear(in_features=1280, out_features=1280, bias=True)\n",
              "            (value): Linear(in_features=1280, out_features=1280, bias=True)\n",
              "            (dropout): Dropout(p=0.0, inplace=False)\n",
              "            (rotary_embeddings): RotaryEmbedding()\n",
              "          )\n",
              "          (output): EsmSelfOutput(\n",
              "            (dense): Linear(in_features=1280, out_features=1280, bias=True)\n",
              "            (dropout): Dropout(p=0.0, inplace=False)\n",
              "          )\n",
              "          (LayerNorm): LayerNorm((1280,), eps=1e-05, elementwise_affine=True)\n",
              "        )\n",
              "        (intermediate): EsmIntermediate(\n",
              "          (dense): Linear(in_features=1280, out_features=5120, bias=True)\n",
              "        )\n",
              "        (output): EsmOutput(\n",
              "          (dense): Linear(in_features=5120, out_features=1280, bias=True)\n",
              "          (dropout): Dropout(p=0.0, inplace=False)\n",
              "        )\n",
              "        (LayerNorm): LayerNorm((1280,), eps=1e-05, elementwise_affine=True)\n",
              "      )\n",
              "    )\n",
              "    (emb_layer_norm_after): LayerNorm((1280,), eps=1e-05, elementwise_affine=True)\n",
              "  )\n",
              "  (pooler): EsmPooler(\n",
              "    (dense): Linear(in_features=1280, out_features=1280, bias=True)\n",
              "    (activation): Tanh()\n",
              "  )\n",
              "  (contact_head): EsmContactPredictionHead(\n",
              "    (regression): Linear(in_features=660, out_features=1, bias=True)\n",
              "    (activation): Sigmoid()\n",
              "  )\n",
              ")"
            ]
          },
          "execution_count": 6,
          "metadata": {},
          "output_type": "execute_result"
        }
      ],
      "source": [
        "MODEL = \"facebook/esm2_t33_650M_UR50D\"\n",
        "esm2_tokenizer = AutoTokenizer.from_pretrained(MODEL)\n",
        "esm2 = EsmModel.from_pretrained(MODEL)\n",
        "esm2.to(device)"
      ]
    },
    {
      "cell_type": "code",
      "execution_count": null,
      "metadata": {
        "colab": {
          "base_uri": "https://localhost:8080/"
        },
        "id": "ghR_oMX0kQ1v",
        "outputId": "f9e30b7b-22d2-42f1-e650-6727e7c215c3"
      },
      "outputs": [
        {
          "name": "stderr",
          "output_type": "stream",
          "text": [
            "100%|██████████| 112437/112437 [04:24<00:00, 424.67it/s]\n",
            "100%|██████████| 112437/112437 [3:17:29<00:00,  9.49it/s]"
          ]
        },
        {
          "name": "stdout",
          "output_type": "stream",
          "text": [
            "        VARIANTKEY    LABEL             ENSG GENE_SYMBOL  AA_POSITION  \\\n",
            "0  1-100196274-A-C      LOF  ENSG00000137992         DBT          477   \n",
            "1  1-100196286-T-C  NEUTRAL  ENSG00000137992         DBT          473   \n",
            "2  1-100196349-T-C      LOF  ENSG00000137992         DBT          452   \n",
            "3  1-100206470-G-A      LOF  ENSG00000137992         DBT          395   \n",
            "4  1-100206621-C-T      LOF  ENSG00000137992         DBT          345   \n",
            "\n",
            "                                         PROTEIN_REF  \\\n",
            "0  MAAVRMLRTWSRNAGKLICVRYFQTCGNVHVLKPNYVCFFGYPSFK...   \n",
            "1  MAAVRMLRTWSRNAGKLICVRYFQTCGNVHVLKPNYVCFFGYPSFK...   \n",
            "2  MAAVRMLRTWSRNAGKLICVRYFQTCGNVHVLKPNYVCFFGYPSFK...   \n",
            "3  MAAVRMLRTWSRNAGKLICVRYFQTCGNVHVLKPNYVCFFGYPSFK...   \n",
            "4  MAAVRMLRTWSRNAGKLICVRYFQTCGNVHVLKPNYVCFFGYPSFK...   \n",
            "\n",
            "                                         PROTEIN_ALT  \\\n",
            "0  MAAVRMLRTWSRNAGKLICVRYFQTCGNVHVLKPNYVCFFGYPSFK...   \n",
            "1  MAAVRMLRTWSRNAGKLICVRYFQTCGNVHVLKPNYVCFFGYPSFK...   \n",
            "2  MAAVRMLRTWSRNAGKLICVRYFQTCGNVHVLKPNYVCFFGYPSFK...   \n",
            "3  MAAVRMLRTWSRNAGKLICVRYFQTCGNVHVLKPNYVCFFGYPSFK...   \n",
            "4  MAAVRMLRTWSRNAGKLICVRYFQTCGNVHVLKPNYVCFFGYPSFK...   \n",
            "\n",
            "                                  REF_EMBEDDING_ESM2  \\\n",
            "0  [-0.34903002, -1.0991553, -5.5619345, -0.78340...   \n",
            "1  [-0.34903002, -1.0991553, -5.5619345, -0.78340...   \n",
            "2  [-0.34903002, -1.0991553, -5.5619345, -0.78340...   \n",
            "3  [-0.34903002, -1.0991553, -5.5619345, -0.78340...   \n",
            "4  [-0.34903002, -1.0991553, -5.5619345, -0.78340...   \n",
            "\n",
            "                                  ALT_EMBEDDING_ESM2  \n",
            "0  [-0.35547394, -1.0680466, -5.513677, -0.804930...  \n",
            "1  [-0.34180462, -1.1007842, -5.556662, -0.767595...  \n",
            "2  [-0.37278727, -1.1201291, -5.4481387, -0.74900...  \n",
            "3  [-0.3627783, -1.0958921, -5.580294, -0.7817215...  \n",
            "4  [-0.3289509, -1.0981828, -5.574082, -0.8473001...  \n"
          ]
        },
        {
          "name": "stderr",
          "output_type": "stream",
          "text": [
            "\n"
          ]
        }
      ],
      "source": [
        "# Define layer to be used\n",
        "layer = esm2.config.num_hidden_layers - 1\n",
        "\n",
        "# Define a helper function for hidden states\n",
        "@lru_cache(maxsize=10000)\n",
        "def get_esm2_embedding(sequence):\n",
        "    esm2.config.output_hidden_states = True\n",
        "    encoded_input = esm2_tokenizer([sequence], return_tensors='pt', padding=True, truncation=True, max_length=1024)\n",
        "    encoded_input = {k: v.to(device) for k, v in encoded_input.items()}  # Move input tensors to GPU\n",
        "    with torch.no_grad():\n",
        "        model_output = esm2(**encoded_input)\n",
        "    hidden_states = model_output.hidden_states\n",
        "    specific_hidden_states = hidden_states[layer][0]\n",
        "    return specific_hidden_states.cpu().numpy().mean(axis=0)\n",
        "\n",
        "# Get protein embeddings for REF and ALT columns\n",
        "df[\"REF_EMBEDDING_ESM2\"] = df.PROTEIN_REF.progress_apply(get_esm2_embedding)\n",
        "df[\"ALT_EMBEDDING_ESM2\"] = df.PROTEIN_ALT.progress_apply(get_esm2_embedding)\n",
        "\n",
        "# Print the updated DataFrame\n",
        "print(df.head())"
      ]
    },
    {
      "cell_type": "code",
      "execution_count": null,
      "metadata": {
        "colab": {
          "base_uri": "https://localhost:8080/"
        },
        "id": "MiYUGknQTJ8K",
        "outputId": "667f7287-9f6f-4d93-c960-d08291eace54"
      },
      "outputs": [
        {
          "name": "stdout",
          "output_type": "stream",
          "text": [
            "411\n",
            "1280\n"
          ]
        }
      ],
      "source": [
        "print(len(df.loc[42165].PROTEIN_ALT))\n",
        "print(len(df.loc[42165].ALT_EMBEDDING_ESM2))"
      ]
    },
    {
      "cell_type": "code",
      "execution_count": null,
      "metadata": {
        "id": "MSLvopfkKmQc"
      },
      "outputs": [],
      "source": [
        "df.to_pickle(\"../data/esm2_embeddings.pkl\")"
      ]
    }
  ],
  "metadata": {
    "accelerator": "GPU",
    "colab": {
      "gpuType": "A100",
      "machine_shape": "hm",
      "provenance": []
    },
    "kernelspec": {
      "display_name": "Python 3",
      "name": "python3"
    },
    "language_info": {
      "name": "python"
    }
  },
  "nbformat": 4,
  "nbformat_minor": 0
}
